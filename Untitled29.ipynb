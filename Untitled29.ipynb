{
 "cells": [
  {
   "cell_type": "code",
   "execution_count": 18,
   "id": "cab5fbb8",
   "metadata": {},
   "outputs": [
    {
     "name": "stdout",
     "output_type": "stream",
     "text": [
      "['Ali', 'Lama', 'Zyad']\n",
      "Candidate xxx is not on the list\n",
      "Number of votes for Ali are: 3\n",
      "Number of votes for Lama are: 2\n",
      "No such candidate!\n",
      "The winner is Ali with 3 votes.\n"
     ]
    }
   ],
   "source": [
    "class VotingSystem:\n",
    "    def __init__(self):  \n",
    "        self.candidates = []   \n",
    "        self.votes = {}  \n",
    "    \n",
    "    def add_candidate(self, name):\n",
    "        if name not in self.candidates:\n",
    "            self.candidates.append(name)\n",
    "            self.votes[name] = 0\n",
    "        else:\n",
    "            print(f\"Candidate {name} is already exists.\")\n",
    "\n",
    "    def show_candidates(self):\n",
    "        print(self.candidates)\n",
    "\n",
    "    def vote_for_candidate(self, name):\n",
    "        if name in self.candidates:\n",
    "            self.votes[name] += 1\n",
    "        else:\n",
    "            print(f\"Candidate {name} is not on the list\")\n",
    "\n",
    "    def get_result_of_candidate(self, name):\n",
    "        if name in self.candidates:\n",
    "           \n",
    "            print(f\"Number of votes for {name} are: {self.votes[name]}\")\n",
    "        else:\n",
    "            print(\"No such candidate!\")\n",
    "\n",
    "    def display_winner(self):\n",
    "        if self.candidates:\n",
    "            winner = max(self.votes, key=self.votes.get)\n",
    "            \n",
    "            print(f\"The winner is {winner} with {self.votes[winner]} votes.\")\n",
    "        else:\n",
    "            print(\"No candidates available.\")\n",
    "\n",
    "\n",
    "voting = VotingSystem()\n",
    "voting.add_candidate('Ali')\n",
    "voting.add_candidate('Lama')\n",
    "voting.add_candidate('Zyad')\n",
    "\n",
    "voting.show_candidates()  \n",
    "\n",
    "voting.vote_for_candidate('Ali')\n",
    "voting.vote_for_candidate('Ali')\n",
    "voting.vote_for_candidate('Ali')\n",
    "voting.vote_for_candidate('Lama')\n",
    "voting.vote_for_candidate('Lama')\n",
    "voting.vote_for_candidate('xxx')  \n",
    "\n",
    "voting.get_result_of_candidate('Ali')\n",
    "voting.get_result_of_candidate('Lama')\n",
    "voting.get_result_of_candidate('Sara')  \n",
    "\n",
    "voting.display_winner()  \n"
   ]
  },
  {
   "cell_type": "code",
   "execution_count": null,
   "id": "89b72e49",
   "metadata": {},
   "outputs": [],
   "source": []
  }
 ],
 "metadata": {
  "kernelspec": {
   "display_name": "Python 3 (ipykernel)",
   "language": "python",
   "name": "python3"
  },
  "language_info": {
   "codemirror_mode": {
    "name": "ipython",
    "version": 3
   },
   "file_extension": ".py",
   "mimetype": "text/x-python",
   "name": "python",
   "nbconvert_exporter": "python",
   "pygments_lexer": "ipython3",
   "version": "3.11.5"
  }
 },
 "nbformat": 4,
 "nbformat_minor": 5
}
